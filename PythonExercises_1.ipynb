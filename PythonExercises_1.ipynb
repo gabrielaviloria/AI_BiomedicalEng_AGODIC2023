{
  "nbformat": 4,
  "nbformat_minor": 0,
  "metadata": {
    "colab": {
      "provenance": [],
      "mount_file_id": "1Tir3a2XQsnmqEQO2p0pMyqWJnX3ffrfD",
      "authorship_tag": "ABX9TyOABQDYviIwxI4msxI363WX",
      "include_colab_link": true
    },
    "kernelspec": {
      "name": "python3",
      "display_name": "Python 3"
    },
    "language_info": {
      "name": "python"
    }
  },
  "cells": [
    {
      "cell_type": "markdown",
      "metadata": {
        "id": "view-in-github",
        "colab_type": "text"
      },
      "source": [
        "<a href=\"https://colab.research.google.com/github/gabrielaviloria/AI_BiomedicalEng_AGODIC2023/blob/main/PythonExercises_1.ipynb\" target=\"_parent\"><img src=\"https://colab.research.google.com/assets/colab-badge.svg\" alt=\"Open In Colab\"/></a>"
      ]
    },
    {
      "cell_type": "markdown",
      "source": [
        "#Gabriela Patricia Viloria Rojas\n",
        "##1945316\n",
        "##Thursday N4-N5"
      ],
      "metadata": {
        "id": "0Ox_YXc9U3KK"
      }
    },
    {
      "cell_type": "markdown",
      "source": [
        "#Python exercises\n",
        "##Text analysis tool\n",
        "Create a Python program that reads a text file and performs various analyses on its content. The program should: Count the number of words, sentences, and paragraphs. Calculate the average word length. Identify the most common words and their frequencies."
      ],
      "metadata": {
        "id": "ougn3dSn44CO"
      }
    },
    {
      "cell_type": "markdown",
      "source": [
        "#Text file 'ejemplo.txt'\n",
        "Jeff Buckley was born on November 17, 1966, in Anaheim, California, from musical lineage. His mother, Mary Guibert, was a classically trained musician, and his father, Tim Buckley, was a well-known folk singer. Buckley, however, only met his father one time; the two spent a week together when Buckley was 8. hHs father died of a heroin overdose at age 28, less than a year after the pair's meeting. Buckley was close with his stepfather, Ron Moorhead, and he gave Buckley his first Led Zeppelin album, which would prove to be highly influential to the future musician.\n",
        "\n",
        "After performing in a handful of cover bands throughout high school, Buckley attended the Los Angeles Musicians Institute after his high school graduation. Over the next several years, he played various gigs and wrote songs, looking for direction. In 1990, he moved to New York City, where he eventually joined the band Gods and Monsters, featuring Gary Lucas, the former guitarist with Captain Beefheart. It wasn't long, though, before he left the group to embark upon a solo career. He found his home away from home in a tiny East Village café called Sin-é. Some of his performances were captured on a four-song EP titled Live at Sin-é, which was released in 1993.\n",
        "\n",
        "In early 1994, Buckley went out on his first solo tour of small venues in support of the live album, and in the summer of 1994, his first studio album, Grace, was released (on August 23, the same day he and his band began their European tour in Dublin, Ireland)."
      ],
      "metadata": {
        "id": "1CtM_rZPACgA"
      }
    },
    {
      "cell_type": "code",
      "source": [
        "#File open and read\n",
        "import os\n",
        "from google.colab import drive\n",
        "drive.mount('/content/drive')\n",
        "os.chdir('/content/drive/MyDrive')\n",
        "with open('ejemplo.txt','r') as f:\n",
        "  data = f.read()\n",
        "\n",
        "#Library used\n",
        "from collections import Counter\n",
        "\n",
        "wordcount = len(data.split()) #wordcount\n",
        "\n",
        "sentencecount = len(data.split('. ')) + len(data.split('! ')) + len(data.split('?')) #sentence count\n",
        "\n",
        "paragraphcount = len(data.split('\\n')) #paragraph count\n",
        "\n",
        "#Calculates avg length\n",
        "words = data.split()\n",
        "total_length = sum(len(word) for word in words)\n",
        "total_words = len(words)\n",
        "avg_length = total_length / total_words\n",
        "\n",
        "#Most common words and freqs\n",
        "word_counts = Counter(words)\n",
        "most_common_words = word_counts.most_common(10)\n",
        "\n",
        "#Prints everything\n",
        "print(\"Wordcount: \", wordcount)\n",
        "print(\"Sentence count: \", sentencecount)\n",
        "print(\"Paragraph count: \",paragraphcount)\n",
        "print(\"Average length\", avg_length)\n",
        "print(\"Most common words: \")\n",
        "for word, count in most_common_words:\n",
        "    print(f\"{word}: {count}\")\n",
        ""
      ],
      "metadata": {
        "id": "Ks1U71Vj7VVj",
        "colab": {
          "base_uri": "https://localhost:8080/"
        },
        "outputId": "cb993bf6-3f05-4268-cc9d-1f09e408b3b3"
      },
      "execution_count": 20,
      "outputs": [
        {
          "output_type": "stream",
          "name": "stdout",
          "text": [
            "Drive already mounted at /content/drive; to attempt to forcibly remount, call drive.mount(\"/content/drive\", force_remount=True).\n",
            "Wordcount:  260\n",
            "Sentence count:  12\n",
            "Paragraph count:  3\n",
            "Average length 4.769230769230769\n",
            "Most common words: \n",
            "the: 11\n",
            "his: 10\n",
            "a: 9\n",
            "was: 7\n",
            "in: 7\n",
            "Buckley: 6\n",
            "and: 6\n",
            "of: 6\n",
            "he: 6\n",
            "to: 4\n"
          ]
        }
      ]
    },
    {
      "cell_type": "code",
      "source": [],
      "metadata": {
        "id": "De0fSrddI2dK"
      },
      "execution_count": null,
      "outputs": []
    },
    {
      "cell_type": "markdown",
      "source": [
        "#Hangman Game\n",
        "Create a Python program that allows a user to play the game of Hangman. The program should randomly select a word from a predefined list, and the player must guess letters one at a time until they guess the word correctly or run out of attempts."
      ],
      "metadata": {
        "id": "Mqqfmhcb7fRc"
      }
    },
    {
      "cell_type": "code",
      "source": [],
      "metadata": {
        "id": "tO3O8uyOUWVk"
      },
      "execution_count": null,
      "outputs": []
    },
    {
      "cell_type": "code",
      "source": [
        "#Library used\n",
        "import random\n",
        "\n",
        "#Define list and function to choose word\n",
        "word_list = [\"cat\", \"capybara\", \"otter\", \"racoon\", \"squirrel\", \"spider\", \"zebra\", \"panda\", \"octopus\", \"squid\", \"ostrich\"]\n",
        "\n",
        "def choose_word(word_list):\n",
        "    return random.choice(word_list)\n",
        "\n",
        "#Function to show progress\n",
        "def progress(word, guessed_letters):\n",
        "    display = \"\"\n",
        "    for letter in word:\n",
        "        if letter in guessed_letters:\n",
        "            display += letter\n",
        "        else:\n",
        "            display += \"_\"\n",
        "    return display\n",
        "\n",
        "def hangman():\n",
        "    word_to_guess = choose_word(word_list)\n",
        "    attempts = 6  # Number of allowed attempts\n",
        "    guessed_letters = []\n",
        "\n",
        "    print(\"******Ahorcado******\")\n",
        "    print(\"You have 6 attempts to guess the word.\")\n",
        "\n",
        "    while attempts > 0:\n",
        "        print(\"\\nWord:\", progress(word_to_guess, guessed_letters))\n",
        "        guess = input(\"Guess a letter: \").lower()  #Input in lowercase\n",
        "\n",
        "        if len(guess) != 1 or not guess.isalpha():  #if not alphanumeric or more letters then enter again\n",
        "            print(\"Please enter a single letter.\")\n",
        "            continue\n",
        "\n",
        "        if guess in guessed_letters:\n",
        "            print(\"You've already guessed that letter.\")\n",
        "            continue\n",
        "\n",
        "        guessed_letters.append(guess) #adds letters to list\n",
        "\n",
        "  #Handles guesses\n",
        "        if guess in word_to_guess:\n",
        "            print(\"Good guess!\")\n",
        "        else:\n",
        "            print(\"Oops, try again!\")\n",
        "            attempts -= 1 #Counts the attempts\n",
        "\n",
        "  #Checks if the complete guessed letters match the word to guess\n",
        "        if set(word_to_guess).issubset(set(guessed_letters)):\n",
        "            print(\"\\nYou've guessed the word!!!! The word is: \", word_to_guess)\n",
        "            break\n",
        "\n",
        "  #Ends game if you run out of attempts\n",
        "    if attempts == 0:\n",
        "        print(\"\\nOops! You're out of attempts! The word was:\", word_to_guess)\n",
        "\n",
        "#Executes game\n",
        "hangman()"
      ],
      "metadata": {
        "id": "KY0GuIwM7xWn",
        "colab": {
          "base_uri": "https://localhost:8080/"
        },
        "outputId": "71781474-5229-48ab-bae9-060f80944212"
      },
      "execution_count": 23,
      "outputs": [
        {
          "output_type": "stream",
          "name": "stdout",
          "text": [
            "******Ahorcado******\n",
            "You have 6 attempts to guess the word.\n",
            "\n",
            "Word: _______\n",
            "Guess a letter: a\n",
            "Oops, try again!\n",
            "\n",
            "Word: _______\n",
            "Guess a letter: b\n",
            "Oops, try again!\n",
            "\n",
            "Word: _______\n",
            "Guess a letter: v\n",
            "Oops, try again!\n",
            "\n",
            "Word: _______\n",
            "Guess a letter: c\n",
            "Good guess!\n",
            "\n",
            "Word: _c_____\n",
            "Guess a letter: r\n",
            "Oops, try again!\n",
            "\n",
            "Word: _c_____\n",
            "Guess a letter: u\n",
            "Good guess!\n",
            "\n",
            "Word: _c___u_\n",
            "Guess a letter: o\n",
            "Good guess!\n",
            "\n",
            "Word: oc_o_u_\n",
            "Guess a letter: t\n",
            "Good guess!\n",
            "\n",
            "Word: octo_u_\n",
            "Guess a letter: p\n",
            "Good guess!\n",
            "\n",
            "Word: octopu_\n",
            "Guess a letter: s\n",
            "Good guess!\n",
            "\n",
            "You've guessed the word!!!! The word is:  octopus\n"
          ]
        }
      ]
    },
    {
      "cell_type": "markdown",
      "source": [
        "#Number Guessing Game:\n",
        "Create a program that generates a random number between 1 and 100, and then asks the user to guess the number. The program should provide hints to the user if the guessed number is greater or less than the target number, and keep asking for a new guess until the user guesses correctly."
      ],
      "metadata": {
        "id": "v-1QRiI3-o5Q"
      }
    },
    {
      "cell_type": "code",
      "source": [
        "#Library used\n",
        "import random as r\n",
        "\n",
        "def guessnumber():\n",
        "  num = r.randint(1,100) #chooses random integer between 1 and 100\n",
        "  guess = int(input(\"Guess the number!  \"))\n",
        "  #Loop to guess number\n",
        "  while (guess != num):\n",
        "    if (guess < num):\n",
        "      guess = int(input(\"Try again, go up!  \"))\n",
        "    elif (guess > num):\n",
        "      guess = int(input(\"Try again, go lower!  \"))\n",
        "  if (guess == num ):\n",
        "    print(\"Well done, the number is: \",num)\n",
        "\n",
        "guessnumber()"
      ],
      "metadata": {
        "colab": {
          "base_uri": "https://localhost:8080/"
        },
        "id": "bi9Mk9-AW9He",
        "outputId": "11b5cfc1-8f64-4b7e-8643-f8f7147c3a54"
      },
      "execution_count": 1,
      "outputs": [
        {
          "output_type": "stream",
          "name": "stdout",
          "text": [
            "Guess the number!  5\n",
            "Try again, go up!  96\n",
            "Try again, go lower!  60\n",
            "Try again, go lower!  25\n",
            "Try again, go lower!  10\n",
            "Try again, go up!  16\n",
            "Try again, go up!  19\n",
            "Try again, go up!  22\n",
            "Try again, go lower!  21\n",
            "Well done, the number is:  21\n"
          ]
        }
      ]
    }
  ]
}